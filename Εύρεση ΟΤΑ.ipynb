{
 "cells": [
  {
   "cell_type": "code",
   "execution_count": 1,
   "metadata": {},
   "outputs": [],
   "source": [
    "import pandas as pd\n",
    "from IPython.display import clear_output\n",
    "import ipywidgets as widgets\n",
    "\n",
    "xl = pd.ExcelFile('antistoixhshotakapodistriaskallikraths.xls')\n",
    "df = xl.parse(sheet_name = 1, skiprows = 1)\n",
    "\n",
    "df.loc[df['ΚΩΔΙΚΟΣ ΝΕΟΥ ΟΤΑ.1'] == 2215, 'ΚΩΔΙΚΟΣ ΝΟΜΑΡΧΙΑΣ '] = 22\n",
    "df.loc[df['ΚΩΔΙΚΟΣ ΝΕΟΥ ΟΤΑ.1'] == 2215, 'ΚΩΔΙΚΟΣ ΠΕΡΙΦΕΡΕΙΑΣ.1'] = 4\n",
    "df.loc[df['ΚΩΔΙΚΟΣ ΝΕΟΥ ΟΤΑ.1'] == 3805, 'ΚΩΔΙΚΟΣ ΝΟΜΑΡΧΙΑΣ '] = 38"
   ]
  },
  {
   "cell_type": "code",
   "execution_count": 2,
   "metadata": {},
   "outputs": [
    {
     "data": {
      "application/vnd.jupyter.widget-view+json": {
       "model_id": "d41f6f0adc86489ebbf2b598ba3702ec",
       "version_major": 2,
       "version_minor": 0
      },
      "text/html": [
       "<p>Failed to display Jupyter Widget of type <code>Dropdown</code>.</p>\n",
       "<p>\n",
       "  If you're reading this message in the Jupyter Notebook or JupyterLab Notebook, it may mean\n",
       "  that the widgets JavaScript is still loading. If this message persists, it\n",
       "  likely means that the widgets JavaScript library is either not installed or\n",
       "  not enabled. See the <a href=\"https://ipywidgets.readthedocs.io/en/stable/user_install.html\">Jupyter\n",
       "  Widgets Documentation</a> for setup instructions.\n",
       "</p>\n",
       "<p>\n",
       "  If you're reading this message in another frontend (for example, a static\n",
       "  rendering on GitHub or <a href=\"https://nbviewer.jupyter.org/\">NBViewer</a>),\n",
       "  it may mean that your frontend doesn't currently support widgets.\n",
       "</p>\n"
      ],
      "text/plain": [
       "Dropdown(description='Περιφερειακή ενότητα:', options=('ΑΙΤΩΛΟΑΚΑΡΝΑΝΙΑΣ', 'ΑΝΑΤΟΛΙΚΗΣ ΑΤΤΙΚΗΣ', 'ΑΝΔΡΟΥ', 'ΑΡΓΟΛΙΔΑΣ', 'ΑΡΚΑΔΙΑΣ', 'ΑΡΤΑΣ', 'ΑΧΑΪΑΣ', 'ΒΟΙΩΤΙΑΣ', 'ΒΟΡΕΙΟΥ ΤΟΜΕΑ ΑΘΗΝΩΝ', 'ΓΡΕΒΕΝΩΝ', 'ΔΡΑΜΑΣ', 'ΔΥΤΙΚΗΣ ΑΤΤΙΚΗΣ', 'ΔΥΤΙΚΟΥ ΤΟΜΕΑ ΑΘΗΝΩΝ', 'ΕΒΡΟΥ', 'ΕΥΒΟΙΑΣ', 'ΕΥΡΥΤΑΝΙΑΣ', 'ΖΑΚΥΝΘΟΥ', 'ΗΛΕΙΑΣ', 'ΗΜΑΘΙΑΣ', 'ΗΡΑΚΛΕΙΟΥ', 'ΘΑΣΟΥ', 'ΘΕΣΠΡΩΤΙΑΣ', 'ΘΕΣΣΑΛΟΝΙΚΗΣ', 'ΘΗΡΑΣ', 'ΙΘΑΚΗΣ', 'ΙΚΑΡΙΑΣ', 'ΙΩΑΝΝΙΝΩΝ', 'ΚΑΒΑΛΑΣ', 'ΚΑΛΥΜΝΟΥ', 'ΚΑΡΔΙΤΣΑΣ', 'ΚΑΡΠΑΘΟΥ', 'ΚΑΣΤΟΡΙΑΣ', 'ΚΕΑΣ-ΚΥΘΝΟΥ', 'ΚΕΝΤΡΙΚΟΥ ΤΟΜΕΑ ΑΘΗΝΩΝ', 'ΚΕΡΚΥΡΑΣ', 'ΚΕΦΑΛΛΗΝΙΑΣ', 'ΚΙΛΚΙΣ', 'ΚΟΖΑΝΗΣ', 'ΚΟΡΙΝΘΙΑΣ', 'ΚΩ', 'ΛΑΚΩΝΙΑΣ', 'ΛΑΡΙΣΑΣ', 'ΛΑΣΙΘΙΟΥ', 'ΛΕΣΒΟΥ', 'ΛΕΥΚΑΔΑΣ', 'ΛΗΜΝΟΥ', 'ΜΑΓΝΗΣΙΑΣ', 'ΜΕΣΣΗΝΙΑΣ', 'ΜΗΛΟΥ', 'ΜΥΚΟΝΟΥ', 'ΝΑΞΟΥ', 'ΝΗΣΩΝ', 'ΝΟΤΙΟΥ ΤΟΜΕΑ ΑΘΗΝΩΝ', 'ΞΑΝΘΗΣ', 'ΠΑΡΟΥ', 'ΠΕΙΡΑΙΩΣ', 'ΠΕΛΛΑΣ', 'ΠΙΕΡΙΑΣ', 'ΠΡΕΒΕΖΑΣ', 'ΡΕΘΥΜΝΟΥ', 'ΡΟΔΟΠΗΣ', 'ΡΟΔΟΥ', 'ΣΑΜΟΥ', 'ΣΕΡΡΩΝ', 'ΣΠΟΡΑΔΩΝ', 'ΣΥΡΟΥ', 'ΤΗΝΟΥ', 'ΤΡΙΚΑΛΩΝ', 'ΦΘΙΩΤΙΔΑΣ', 'ΦΛΩΡΙΝΑΣ', 'ΦΩΚΙΔΑΣ', 'ΧΑΛΚΙΔΙΚΗΣ', 'ΧΑΝΙΩΝ', 'ΧΙΟΥ'), style=DescriptionStyle(description_width='initial'), value='ΑΙΤΩΛΟΑΚΑΡΝΑΝΙΑΣ')"
      ]
     },
     "metadata": {},
     "output_type": "display_data"
    }
   ],
   "source": [
    "per_enotites = sorted(df['ΠΕΡΙΦΕΡΕΙΑΚΗ ΕΝΟΤΗΤΑ'].unique().tolist())\n",
    "per_enotites\n",
    "pew = widgets.Dropdown(\n",
    "    options=per_enotites,\n",
    "    value=per_enotites[0],\n",
    "    description='Περιφερειακή ενότητα:',\n",
    "    disabled=False,\n",
    "    style = {'description_width': 'initial'}\n",
    ")\n",
    "display(pew)"
   ]
  },
  {
   "cell_type": "code",
   "execution_count": 3,
   "metadata": {},
   "outputs": [],
   "source": [
    "def on_change(change):\n",
    "    if change['type'] == 'change' and change['name'] == 'value':\n",
    "        clear_output(True)\n",
    "        display(pew)\n",
    "        ota = df[df['ΠΕΡΙΦΕΡΕΙΑΚΗ ΕΝΟΤΗΤΑ']==pew.value].sort_values(['ΕΔΡΑ', 'ΚΩΔΙΚΟΣ ΚΟΙΝΟΤΗΤΑΣ'])\n",
    "        ota = ota.drop_duplicates('ΚΩΔΙΚΟΣ ΔΗΜ. ΕΝΟΤΗΤΑΣ').iloc[:,5:11]\n",
    "        ota['ΕΔΡΑ'] = ota['ΕΔΡΑ'].fillna('-')\n",
    "        display(ota.sort_values('ΚΩΔΙΚΟΣ ΔΗΜ. ΕΝΟΤΗΤΑΣ'))\n",
    "\n",
    "pew.observe(on_change)      "
   ]
  },
  {
   "cell_type": "code",
   "execution_count": null,
   "metadata": {},
   "outputs": [],
   "source": []
  }
 ],
 "metadata": {
  "kernelspec": {
   "display_name": "Python 3",
   "language": "python",
   "name": "python3"
  },
  "language_info": {
   "codemirror_mode": {
    "name": "ipython",
    "version": 3
   },
   "file_extension": ".py",
   "mimetype": "text/x-python",
   "name": "python",
   "nbconvert_exporter": "python",
   "pygments_lexer": "ipython3",
   "version": "3.6.2"
  }
 },
 "nbformat": 4,
 "nbformat_minor": 2
}
